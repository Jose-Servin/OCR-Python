{
 "cells": [
  {
   "cell_type": "markdown",
   "metadata": {},
   "source": [
    "# Intro to PyTesseract"
   ]
  },
  {
   "cell_type": "code",
   "execution_count": 1,
   "metadata": {},
   "outputs": [],
   "source": [
    "import pytesseract\n",
    "from PIL import Image"
   ]
  },
  {
   "cell_type": "code",
   "execution_count": 2,
   "metadata": {},
   "outputs": [],
   "source": [
    "default_img = \"./data/page_01.jpg\"\n",
    "no_noise_img = \"./temp/no_noise.png\""
   ]
  },
  {
   "cell_type": "code",
   "execution_count": 3,
   "metadata": {},
   "outputs": [],
   "source": [
    "# Load image into memory\n",
    "img = Image.open(no_noise_img)"
   ]
  },
  {
   "cell_type": "code",
   "execution_count": 4,
   "metadata": {},
   "outputs": [],
   "source": [
    "ocr_result = pytesseract.image_to_string(img)"
   ]
  },
  {
   "cell_type": "code",
   "execution_count": 5,
   "metadata": {},
   "outputs": [
    {
     "name": "stdout",
     "output_type": "stream",
     "text": [
      ", GABRIEL Nermate\n",
      "\n",
      "On Easter motning in the year 1745, I took my six-year-old\n",
      "son by the hand and beran walking fron my home town toward the\n",
      "valleys and forests of the Carpathira rountains. For nearly\n",
      "eight months we lived in barns, attics and makeshift cabins, “ith\n",
      "the generous help of an unusually courageous man, we managed to\n",
      "survive Europe's greatest fit of madness. Those who walked in\n",
      "the opposite direction on that Easter day were less fortunate.\n",
      "They wore taken in trainloads to places whose once obscure nanes\n",
      "are now, and forever will be, synonymous with terror, evil and\n",
      "death. What follows is our story of survival told to the best\n",
      "of my ability, in plain, simple languare.\n",
      "\n",
      "In March of 194% the SS troops took over the internal affeirs\n",
      "of Hungary and proceeded to organize the deportation of the Jews.\n",
      "™> the Mazis this was a routine assignment; within hours all local\n",
      "officials were informed of operational plans. The high command\n",
      "issued a directive designed to placate Jewish fears and induce\n",
      "cooperation. It was announced that the Jews would be shipped to\n",
      "Poler:i as an emergency labor force and that they were only being\n",
      "drafted for temporary work. There were many who believed this\n",
      "version. Others, less credulous, resigred themselves and hoped for\n",
      "the best. Still others began to make plans for escape. By Apris\n",
      "13 the Hungarian Jews were being rounded up from all over the\n",
      "country kn what was once a huge brick factory. The rest is well\n",
      "known. :\n",
      "\n",
      "I was working in Urevar and usually came home on weekends.\n",
      "\n",
      "At that time it was no lonser possitle for a Jew to travel freely.\n",
      "\n",
      "1\n",
      "\n",
      "\n"
     ]
    }
   ],
   "source": [
    "print (ocr_result)"
   ]
  },
  {
   "cell_type": "code",
   "execution_count": null,
   "metadata": {},
   "outputs": [],
   "source": []
  }
 ],
 "metadata": {
  "kernelspec": {
   "display_name": "venv",
   "language": "python",
   "name": "python3"
  },
  "language_info": {
   "codemirror_mode": {
    "name": "ipython",
    "version": 3
   },
   "file_extension": ".py",
   "mimetype": "text/x-python",
   "name": "python",
   "nbconvert_exporter": "python",
   "pygments_lexer": "ipython3",
   "version": "3.10.2"
  },
  "orig_nbformat": 4
 },
 "nbformat": 4,
 "nbformat_minor": 2
}
